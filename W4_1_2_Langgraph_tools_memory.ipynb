{
  "cells": [
    {
      "cell_type": "code",
      "metadata": {
        "collapsed": true,
        "id": "b9eb1317",
        "colab": {
          "base_uri": "https://localhost:8080/"
        },
        "outputId": "7e6ddda6-2d02-4ea0-d9e1-4fdb4faf735a"
      },
      "source": [
        "%pip install -U langgraph langchain_openai langchain_community"
      ],
      "execution_count": 1,
      "outputs": [
        {
          "output_type": "stream",
          "name": "stdout",
          "text": [
            "Collecting langgraph\n",
            "  Downloading langgraph-0.4.8-py3-none-any.whl.metadata (6.8 kB)\n",
            "Collecting langchain_openai\n",
            "  Downloading langchain_openai-0.3.24-py3-none-any.whl.metadata (2.3 kB)\n",
            "Collecting langchain_community\n",
            "  Downloading langchain_community-0.3.25-py3-none-any.whl.metadata (2.9 kB)\n",
            "Requirement already satisfied: langchain-core>=0.1 in /usr/local/lib/python3.11/dist-packages (from langgraph) (0.3.65)\n",
            "Collecting langgraph-checkpoint>=2.0.26 (from langgraph)\n",
            "  Downloading langgraph_checkpoint-2.1.0-py3-none-any.whl.metadata (4.2 kB)\n",
            "Collecting langgraph-prebuilt>=0.2.0 (from langgraph)\n",
            "  Downloading langgraph_prebuilt-0.2.2-py3-none-any.whl.metadata (4.5 kB)\n",
            "Collecting langgraph-sdk>=0.1.42 (from langgraph)\n",
            "  Downloading langgraph_sdk-0.1.70-py3-none-any.whl.metadata (1.5 kB)\n",
            "Requirement already satisfied: pydantic>=2.7.4 in /usr/local/lib/python3.11/dist-packages (from langgraph) (2.11.5)\n",
            "Requirement already satisfied: xxhash>=3.5.0 in /usr/local/lib/python3.11/dist-packages (from langgraph) (3.5.0)\n",
            "Requirement already satisfied: openai<2.0.0,>=1.86.0 in /usr/local/lib/python3.11/dist-packages (from langchain_openai) (1.86.0)\n",
            "Requirement already satisfied: tiktoken<1,>=0.7 in /usr/local/lib/python3.11/dist-packages (from langchain_openai) (0.9.0)\n",
            "Requirement already satisfied: langchain<1.0.0,>=0.3.25 in /usr/local/lib/python3.11/dist-packages (from langchain_community) (0.3.25)\n",
            "Requirement already satisfied: SQLAlchemy<3,>=1.4 in /usr/local/lib/python3.11/dist-packages (from langchain_community) (2.0.41)\n",
            "Requirement already satisfied: requests<3,>=2 in /usr/local/lib/python3.11/dist-packages (from langchain_community) (2.32.3)\n",
            "Requirement already satisfied: PyYAML>=5.3 in /usr/local/lib/python3.11/dist-packages (from langchain_community) (6.0.2)\n",
            "Requirement already satisfied: aiohttp<4.0.0,>=3.8.3 in /usr/local/lib/python3.11/dist-packages (from langchain_community) (3.11.15)\n",
            "Requirement already satisfied: tenacity!=8.4.0,<10,>=8.1.0 in /usr/local/lib/python3.11/dist-packages (from langchain_community) (9.1.2)\n",
            "Collecting dataclasses-json<0.7,>=0.5.7 (from langchain_community)\n",
            "  Downloading dataclasses_json-0.6.7-py3-none-any.whl.metadata (25 kB)\n",
            "Collecting pydantic-settings<3.0.0,>=2.4.0 (from langchain_community)\n",
            "  Downloading pydantic_settings-2.9.1-py3-none-any.whl.metadata (3.8 kB)\n",
            "Requirement already satisfied: langsmith<0.4,>=0.1.125 in /usr/local/lib/python3.11/dist-packages (from langchain_community) (0.3.45)\n",
            "Collecting httpx-sse<1.0.0,>=0.4.0 (from langchain_community)\n",
            "  Downloading httpx_sse-0.4.0-py3-none-any.whl.metadata (9.0 kB)\n",
            "Requirement already satisfied: numpy>=1.26.2 in /usr/local/lib/python3.11/dist-packages (from langchain_community) (2.0.2)\n",
            "Requirement already satisfied: aiohappyeyeballs>=2.3.0 in /usr/local/lib/python3.11/dist-packages (from aiohttp<4.0.0,>=3.8.3->langchain_community) (2.6.1)\n",
            "Requirement already satisfied: aiosignal>=1.1.2 in /usr/local/lib/python3.11/dist-packages (from aiohttp<4.0.0,>=3.8.3->langchain_community) (1.3.2)\n",
            "Requirement already satisfied: attrs>=17.3.0 in /usr/local/lib/python3.11/dist-packages (from aiohttp<4.0.0,>=3.8.3->langchain_community) (25.3.0)\n",
            "Requirement already satisfied: frozenlist>=1.1.1 in /usr/local/lib/python3.11/dist-packages (from aiohttp<4.0.0,>=3.8.3->langchain_community) (1.7.0)\n",
            "Requirement already satisfied: multidict<7.0,>=4.5 in /usr/local/lib/python3.11/dist-packages (from aiohttp<4.0.0,>=3.8.3->langchain_community) (6.4.4)\n",
            "Requirement already satisfied: propcache>=0.2.0 in /usr/local/lib/python3.11/dist-packages (from aiohttp<4.0.0,>=3.8.3->langchain_community) (0.3.2)\n",
            "Requirement already satisfied: yarl<2.0,>=1.17.0 in /usr/local/lib/python3.11/dist-packages (from aiohttp<4.0.0,>=3.8.3->langchain_community) (1.20.1)\n",
            "Collecting marshmallow<4.0.0,>=3.18.0 (from dataclasses-json<0.7,>=0.5.7->langchain_community)\n",
            "  Downloading marshmallow-3.26.1-py3-none-any.whl.metadata (7.3 kB)\n",
            "Collecting typing-inspect<1,>=0.4.0 (from dataclasses-json<0.7,>=0.5.7->langchain_community)\n",
            "  Downloading typing_inspect-0.9.0-py3-none-any.whl.metadata (1.5 kB)\n",
            "Requirement already satisfied: langchain-text-splitters<1.0.0,>=0.3.8 in /usr/local/lib/python3.11/dist-packages (from langchain<1.0.0,>=0.3.25->langchain_community) (0.3.8)\n",
            "Requirement already satisfied: jsonpatch<2.0,>=1.33 in /usr/local/lib/python3.11/dist-packages (from langchain-core>=0.1->langgraph) (1.33)\n",
            "Requirement already satisfied: packaging<25,>=23.2 in /usr/local/lib/python3.11/dist-packages (from langchain-core>=0.1->langgraph) (24.2)\n",
            "Requirement already satisfied: typing-extensions>=4.7 in /usr/local/lib/python3.11/dist-packages (from langchain-core>=0.1->langgraph) (4.14.0)\n",
            "Collecting ormsgpack>=1.10.0 (from langgraph-checkpoint>=2.0.26->langgraph)\n",
            "  Downloading ormsgpack-1.10.0-cp311-cp311-manylinux_2_17_x86_64.manylinux2014_x86_64.whl.metadata (43 kB)\n",
            "\u001b[2K     \u001b[90m━━━━━━━━━━━━━━━━━━━━━━━━━━━━━━━━━━━━━━━━\u001b[0m \u001b[32m43.7/43.7 kB\u001b[0m \u001b[31m1.7 MB/s\u001b[0m eta \u001b[36m0:00:00\u001b[0m\n",
            "\u001b[?25hRequirement already satisfied: httpx>=0.25.2 in /usr/local/lib/python3.11/dist-packages (from langgraph-sdk>=0.1.42->langgraph) (0.28.1)\n",
            "Requirement already satisfied: orjson>=3.10.1 in /usr/local/lib/python3.11/dist-packages (from langgraph-sdk>=0.1.42->langgraph) (3.10.18)\n",
            "Requirement already satisfied: requests-toolbelt<2.0.0,>=1.0.0 in /usr/local/lib/python3.11/dist-packages (from langsmith<0.4,>=0.1.125->langchain_community) (1.0.0)\n",
            "Requirement already satisfied: zstandard<0.24.0,>=0.23.0 in /usr/local/lib/python3.11/dist-packages (from langsmith<0.4,>=0.1.125->langchain_community) (0.23.0)\n",
            "Requirement already satisfied: anyio<5,>=3.5.0 in /usr/local/lib/python3.11/dist-packages (from openai<2.0.0,>=1.86.0->langchain_openai) (4.9.0)\n",
            "Requirement already satisfied: distro<2,>=1.7.0 in /usr/local/lib/python3.11/dist-packages (from openai<2.0.0,>=1.86.0->langchain_openai) (1.9.0)\n",
            "Requirement already satisfied: jiter<1,>=0.4.0 in /usr/local/lib/python3.11/dist-packages (from openai<2.0.0,>=1.86.0->langchain_openai) (0.10.0)\n",
            "Requirement already satisfied: sniffio in /usr/local/lib/python3.11/dist-packages (from openai<2.0.0,>=1.86.0->langchain_openai) (1.3.1)\n",
            "Requirement already satisfied: tqdm>4 in /usr/local/lib/python3.11/dist-packages (from openai<2.0.0,>=1.86.0->langchain_openai) (4.67.1)\n",
            "Requirement already satisfied: annotated-types>=0.6.0 in /usr/local/lib/python3.11/dist-packages (from pydantic>=2.7.4->langgraph) (0.7.0)\n",
            "Requirement already satisfied: pydantic-core==2.33.2 in /usr/local/lib/python3.11/dist-packages (from pydantic>=2.7.4->langgraph) (2.33.2)\n",
            "Requirement already satisfied: typing-inspection>=0.4.0 in /usr/local/lib/python3.11/dist-packages (from pydantic>=2.7.4->langgraph) (0.4.1)\n",
            "Collecting python-dotenv>=0.21.0 (from pydantic-settings<3.0.0,>=2.4.0->langchain_community)\n",
            "  Downloading python_dotenv-1.1.0-py3-none-any.whl.metadata (24 kB)\n",
            "Requirement already satisfied: charset-normalizer<4,>=2 in /usr/local/lib/python3.11/dist-packages (from requests<3,>=2->langchain_community) (3.4.2)\n",
            "Requirement already satisfied: idna<4,>=2.5 in /usr/local/lib/python3.11/dist-packages (from requests<3,>=2->langchain_community) (3.10)\n",
            "Requirement already satisfied: urllib3<3,>=1.21.1 in /usr/local/lib/python3.11/dist-packages (from requests<3,>=2->langchain_community) (2.4.0)\n",
            "Requirement already satisfied: certifi>=2017.4.17 in /usr/local/lib/python3.11/dist-packages (from requests<3,>=2->langchain_community) (2025.4.26)\n",
            "Requirement already satisfied: greenlet>=1 in /usr/local/lib/python3.11/dist-packages (from SQLAlchemy<3,>=1.4->langchain_community) (3.2.3)\n",
            "Requirement already satisfied: regex>=2022.1.18 in /usr/local/lib/python3.11/dist-packages (from tiktoken<1,>=0.7->langchain_openai) (2024.11.6)\n",
            "Requirement already satisfied: httpcore==1.* in /usr/local/lib/python3.11/dist-packages (from httpx>=0.25.2->langgraph-sdk>=0.1.42->langgraph) (1.0.9)\n",
            "Requirement already satisfied: h11>=0.16 in /usr/local/lib/python3.11/dist-packages (from httpcore==1.*->httpx>=0.25.2->langgraph-sdk>=0.1.42->langgraph) (0.16.0)\n",
            "Requirement already satisfied: jsonpointer>=1.9 in /usr/local/lib/python3.11/dist-packages (from jsonpatch<2.0,>=1.33->langchain-core>=0.1->langgraph) (3.0.0)\n",
            "Collecting mypy-extensions>=0.3.0 (from typing-inspect<1,>=0.4.0->dataclasses-json<0.7,>=0.5.7->langchain_community)\n",
            "  Downloading mypy_extensions-1.1.0-py3-none-any.whl.metadata (1.1 kB)\n",
            "Downloading langgraph-0.4.8-py3-none-any.whl (152 kB)\n",
            "\u001b[2K   \u001b[90m━━━━━━━━━━━━━━━━━━━━━━━━━━━━━━━━━━━━━━━━\u001b[0m \u001b[32m152.4/152.4 kB\u001b[0m \u001b[31m7.8 MB/s\u001b[0m eta \u001b[36m0:00:00\u001b[0m\n",
            "\u001b[?25hDownloading langchain_openai-0.3.24-py3-none-any.whl (68 kB)\n",
            "\u001b[2K   \u001b[90m━━━━━━━━━━━━━━━━━━━━━━━━━━━━━━━━━━━━━━━━\u001b[0m \u001b[32m69.0/69.0 kB\u001b[0m \u001b[31m3.7 MB/s\u001b[0m eta \u001b[36m0:00:00\u001b[0m\n",
            "\u001b[?25hDownloading langchain_community-0.3.25-py3-none-any.whl (2.5 MB)\n",
            "\u001b[2K   \u001b[90m━━━━━━━━━━━━━━━━━━━━━━━━━━━━━━━━━━━━━━━━\u001b[0m \u001b[32m2.5/2.5 MB\u001b[0m \u001b[31m24.7 MB/s\u001b[0m eta \u001b[36m0:00:00\u001b[0m\n",
            "\u001b[?25hDownloading dataclasses_json-0.6.7-py3-none-any.whl (28 kB)\n",
            "Downloading httpx_sse-0.4.0-py3-none-any.whl (7.8 kB)\n",
            "Downloading langgraph_checkpoint-2.1.0-py3-none-any.whl (43 kB)\n",
            "\u001b[2K   \u001b[90m━━━━━━━━━━━━━━━━━━━━━━━━━━━━━━━━━━━━━━━━\u001b[0m \u001b[32m43.8/43.8 kB\u001b[0m \u001b[31m1.9 MB/s\u001b[0m eta \u001b[36m0:00:00\u001b[0m\n",
            "\u001b[?25hDownloading langgraph_prebuilt-0.2.2-py3-none-any.whl (23 kB)\n",
            "Downloading langgraph_sdk-0.1.70-py3-none-any.whl (49 kB)\n",
            "\u001b[2K   \u001b[90m━━━━━━━━━━━━━━━━━━━━━━━━━━━━━━━━━━━━━━━━\u001b[0m \u001b[32m50.0/50.0 kB\u001b[0m \u001b[31m2.1 MB/s\u001b[0m eta \u001b[36m0:00:00\u001b[0m\n",
            "\u001b[?25hDownloading pydantic_settings-2.9.1-py3-none-any.whl (44 kB)\n",
            "\u001b[2K   \u001b[90m━━━━━━━━━━━━━━━━━━━━━━━━━━━━━━━━━━━━━━━━\u001b[0m \u001b[32m44.4/44.4 kB\u001b[0m \u001b[31m2.7 MB/s\u001b[0m eta \u001b[36m0:00:00\u001b[0m\n",
            "\u001b[?25hDownloading marshmallow-3.26.1-py3-none-any.whl (50 kB)\n",
            "\u001b[2K   \u001b[90m━━━━━━━━━━━━━━━━━━━━━━━━━━━━━━━━━━━━━━━━\u001b[0m \u001b[32m50.9/50.9 kB\u001b[0m \u001b[31m3.0 MB/s\u001b[0m eta \u001b[36m0:00:00\u001b[0m\n",
            "\u001b[?25hDownloading ormsgpack-1.10.0-cp311-cp311-manylinux_2_17_x86_64.manylinux2014_x86_64.whl (216 kB)\n",
            "\u001b[2K   \u001b[90m━━━━━━━━━━━━━━━━━━━━━━━━━━━━━━━━━━━━━━━━\u001b[0m \u001b[32m216.5/216.5 kB\u001b[0m \u001b[31m11.7 MB/s\u001b[0m eta \u001b[36m0:00:00\u001b[0m\n",
            "\u001b[?25hDownloading python_dotenv-1.1.0-py3-none-any.whl (20 kB)\n",
            "Downloading typing_inspect-0.9.0-py3-none-any.whl (8.8 kB)\n",
            "Downloading mypy_extensions-1.1.0-py3-none-any.whl (5.0 kB)\n",
            "Installing collected packages: python-dotenv, ormsgpack, mypy-extensions, marshmallow, httpx-sse, typing-inspect, pydantic-settings, langgraph-sdk, dataclasses-json, langgraph-checkpoint, langchain_openai, langgraph-prebuilt, langgraph, langchain_community\n",
            "Successfully installed dataclasses-json-0.6.7 httpx-sse-0.4.0 langchain_community-0.3.25 langchain_openai-0.3.24 langgraph-0.4.8 langgraph-checkpoint-2.1.0 langgraph-prebuilt-0.2.2 langgraph-sdk-0.1.70 marshmallow-3.26.1 mypy-extensions-1.1.0 ormsgpack-1.10.0 pydantic-settings-2.9.1 python-dotenv-1.1.0 typing-inspect-0.9.0\n"
          ]
        }
      ]
    },
    {
      "cell_type": "code",
      "execution_count": 2,
      "metadata": {
        "id": "cVczIJu21QYw"
      },
      "outputs": [],
      "source": [
        "from typing import Annotated\n",
        "from langgraph.graph import StateGraph, START, END\n",
        "from langgraph.graph.message import add_messages\n",
        "\n",
        "from IPython.display import Image, display\n",
        "import gradio as gr\n",
        "from langgraph.prebuilt import ToolNode, tools_condition\n",
        "import requests\n",
        "import os\n",
        "from langchain_openai import ChatOpenAI\n",
        "from typing import TypedDict\n"
      ]
    },
    {
      "cell_type": "markdown",
      "metadata": {
        "id": "KMd_snk_1QYx"
      },
      "source": [
        "### First, let's go set up LangSmith!\n",
        "\n",
        "https://langsmith.com"
      ]
    },
    {
      "cell_type": "code",
      "source": [
        "import os\n",
        "os.environ[\"LANGCHAIN_TRACING_V2\"] = \"true\"\n",
        "os.environ[\"LANGCHAIN_API_KEY\"] = \"LangsmithAPI\" # Replace with your LangChain API Key"
      ],
      "metadata": {
        "id": "tJQSORTYBjZY"
      },
      "execution_count": 3,
      "outputs": []
    },
    {
      "cell_type": "markdown",
      "metadata": {
        "id": "O8gm2xOH1QYx"
      },
      "source": [
        "### Next, here is a useful function in LangChain community:"
      ]
    },
    {
      "cell_type": "code",
      "source": [
        "from google.colab import userdata\n",
        "serper = userdata.get(\"Serper\")"
      ],
      "metadata": {
        "id": "v0eRe-dv2mIa"
      },
      "execution_count": 4,
      "outputs": []
    },
    {
      "cell_type": "code",
      "source": [
        "from langchain_community.utilities import GoogleSerperAPIWrapper\n",
        "\n",
        "serper = GoogleSerperAPIWrapper(serper_api_key = serper)\n",
        "serper.run(\"What is current situation between iran and israel?\")"
      ],
      "metadata": {
        "id": "-T7nntfNBVyU",
        "colab": {
          "base_uri": "https://localhost:8080/",
          "height": 139
        },
        "outputId": "95e9d765-8139-4884-830d-51089a742e38"
      },
      "execution_count": 5,
      "outputs": [
        {
          "output_type": "execute_result",
          "data": {
            "text/plain": [
              "'Israel says its assault on Iran is necessary to prevent the country from building a nuclear weapon – which Israel sees as an existential threat ... Iran and Israel\\'s exchange of aerial attacks have forced multiple countries in the region to temporarily close their airspaces in recent days, ... Iranian Supreme Leader Ayatollah Ali Khamenei said Iran \"will never compromise with Zionists\", in a series of posts on X. \"We will show the ... The escalation between Israel and Iran has raised many important questions about a region already facing crises on multiple fronts. Iran launched new missile barrages against Israel, but none appeared to do significant damage. It comes as Israel destroyed fighter jets, ... US President Donald Trump has stepped up his rhetoric against Iran\\'s supreme leader and raised questions about the extent of US involvement ... Iran has warned that any United States intervention in the conflict with Israel would risk an “all-out war” as the two sides traded attacks for ...'"
            ],
            "application/vnd.google.colaboratory.intrinsic+json": {
              "type": "string"
            }
          },
          "metadata": {},
          "execution_count": 5
        }
      ]
    },
    {
      "cell_type": "markdown",
      "metadata": {
        "id": "QLsJ0BPM1QYy"
      },
      "source": [
        "### Now here is a LangChain wrapper class for converting functions into Tools"
      ]
    },
    {
      "cell_type": "code",
      "execution_count": 6,
      "metadata": {
        "id": "uXaOlSg81QYy"
      },
      "outputs": [],
      "source": [
        "from langchain.agents import Tool\n",
        "\n",
        "tool_search =Tool(\n",
        "        name=\"search\",\n",
        "        func=serper.run, # a regular Python function (serper.run) turning into a tool, the agent can call dynamically, based on your query and the tool's description.\n",
        "        description=\"Useful for when you need more information from an online search\"\n",
        "    )\n",
        "\n"
      ]
    },
    {
      "cell_type": "markdown",
      "metadata": {
        "id": "Y0TQMAJ31QYy"
      },
      "source": [
        "### Now we can try out the tool the langchain way"
      ]
    },
    {
      "cell_type": "code",
      "execution_count": 7,
      "metadata": {
        "id": "FfL90rmp1QYy",
        "colab": {
          "base_uri": "https://localhost:8080/",
          "height": 177
        },
        "outputId": "d8aa7899-125d-47f6-97bf-240a3031e345"
      },
      "outputs": [
        {
          "output_type": "stream",
          "name": "stderr",
          "text": [
            "WARNING:langsmith.client:Failed to multipart ingest runs: langsmith.utils.LangSmithError: Failed to POST https://api.smith.langchain.com/runs/multipart in LangSmith API. HTTPError('403 Client Error: Forbidden for url: https://api.smith.langchain.com/runs/multipart', '{\"error\":\"Forbidden\"}\\n')\n"
          ]
        },
        {
          "output_type": "execute_result",
          "data": {
            "text/plain": [
              "'Gold Karachi · Rs. 360100.00. 24K - 1 Tola Gold Rate in Karachi · Rs. 308733. 24K (10 Gram) Gold Price in Karachi · Rs. 30873.3. 24K Karachi Gold Rate 1 Gram ... Today GOLD Price is Rs 360,000. 24k GOLD rate in Pakistan is Rs 360,000. Sarmaaya.pk provides Gold live price updates, Gold conversion calculator and much more. The gold rate in Pakistan today is PKR 360,600 tola for 24 karat gold, and 22 karat gold price is PKR 330,635 1 tola on Wednesday, Jun 18, 2025. The current ... The current gold rate today Karachi is PKR 330,635 per tola for 22 carat. The highest quality gold available is 24K, but gold can also be found in other ... Gold Rates · Per Tola · Rs. 363,700/- · 24K Gold · Per 10 Gram · Rs. 311,800/- · 24K Gold · Per Gram · Rs. 31,180/- ... Gold price in Pakistan today for 24 Karat gold is Rs. 360,000 per tola and Rs. 308,650 per 10 grams. Furthermore, the gold price in Pakistan today for 22 Carat ... 365400 as per Karachi Gold Market and per gram gold rate in Karachi is Rs. 31327, this price is for 24K gold in Karachi, 22K gold available in Rs. 28714 per ... The gold rate today is ₹101,470 for 10 grams of 24-carat gold and ₹92,947 for 10 grams of 22-carat gold. In Karachi, the prices have climbed by ₹3,000 for 24- ... Today Gold Price for 10 Gram is PKR 309846\\u200b\\u200b Gold rates may be different in every city of Pakistan. The latest Gold prices for different cities including Karachi ... Today gold rate in Pakistan for 24k per 1 Gram is Rs. 24,567.00 per 10 Gram gold is Rs. 245,670.00 per 1 Tola gold is Rs. 286,451.22. As compared to previous ...'"
            ],
            "application/vnd.google.colaboratory.intrinsic+json": {
              "type": "string"
            }
          },
          "metadata": {},
          "execution_count": 7
        }
      ],
      "source": [
        "tool_search.invoke(\"What is the gold rate today in karachi?\")"
      ]
    },
    {
      "cell_type": "markdown",
      "metadata": {
        "id": "4PXvnK001QYy"
      },
      "source": [
        "### And now let's write a tool ourselves\n",
        "\n",
        "We'll pick a familiar one"
      ]
    },
    {
      "cell_type": "code",
      "source": [
        "import http.client\n",
        "\n",
        "conn = http.client.HTTPSConnection(\"open-weather13.p.rapidapi.com\")\n",
        "\n",
        "headers = {\n",
        "    'x-rapidapi-key': \"f39e410c6bmshad955ee7a034f9dp103e71jsn04ceecae5446\",\n",
        "    'x-rapidapi-host': \"open-weather13.p.rapidapi.com\"\n",
        "}\n",
        "\n",
        "conn.request(\"GET\", \"/fivedaysforcast?latitude=40.730610&longitude=-73.935242&lang=EN\", headers=headers)\n",
        "\n",
        "res = conn.getresponse()\n",
        "data = res.read()\n",
        "\n",
        "print(data.decode(\"utf-8\"))"
      ],
      "metadata": {
        "id": "QNrQqYlSF9z4",
        "colab": {
          "base_uri": "https://localhost:8080/"
        },
        "outputId": "5dbd1ecd-f871-4b82-8ae5-c06ff6e30113"
      },
      "execution_count": 8,
      "outputs": [
        {
          "output_type": "stream",
          "name": "stderr",
          "text": [
            "WARNING:langsmith.client:Failed to send compressed multipart ingest: langsmith.utils.LangSmithError: Failed to POST https://api.smith.langchain.com/runs/multipart in LangSmith API. HTTPError('403 Client Error: Forbidden for url: https://api.smith.langchain.com/runs/multipart', '{\"error\":\"Forbidden\"}\\n')\n"
          ]
        },
        {
          "output_type": "stream",
          "name": "stdout",
          "text": [
            "{\"cod\":\"200\",\"message\":0,\"cnt\":40,\"list\":[{\"dt\":1750248000,\"main\":{\"temp\":292.07,\"feels_like\":292.55,\"temp_min\":292.07,\"temp_max\":293.22,\"pressure\":1014,\"sea_level\":1014,\"grnd_level\":1013,\"humidity\":97,\"temp_kf\":-1.15},\"weather\":[{\"id\":804,\"main\":\"Clouds\",\"description\":\"overcast clouds\",\"icon\":\"04d\"}],\"clouds\":{\"all\":100},\"wind\":{\"speed\":3.1,\"deg\":195,\"gust\":5.37},\"visibility\":10000,\"pop\":0.67,\"sys\":{\"pod\":\"d\"},\"dt_txt\":\"2025-06-18 12:00:00\"},{\"dt\":1750258800,\"main\":{\"temp\":293.87,\"feels_like\":294.35,\"temp_min\":293.87,\"temp_max\":297.48,\"pressure\":1014,\"sea_level\":1014,\"grnd_level\":1012,\"humidity\":90,\"temp_kf\":-3.61},\"weather\":[{\"id\":804,\"main\":\"Clouds\",\"description\":\"overcast clouds\",\"icon\":\"04d\"}],\"clouds\":{\"all\":96},\"wind\":{\"speed\":2.44,\"deg\":222,\"gust\":4.52},\"visibility\":10000,\"pop\":0,\"sys\":{\"pod\":\"d\"},\"dt_txt\":\"2025-06-18 15:00:00\"},{\"dt\":1750269600,\"main\":{\"temp\":297.24,\"feels_like\":297.77,\"temp_min\":297.24,\"temp_max\":299.82,\"pressure\":1013,\"sea_level\":1013,\"grnd_level\":1011,\"humidity\":79,\"temp_kf\":-2.58},\"weather\":[{\"id\":500,\"main\":\"Rain\",\"description\":\"light rain\",\"icon\":\"10d\"}],\"clouds\":{\"all\":96},\"wind\":{\"speed\":4.09,\"deg\":166,\"gust\":4.78},\"visibility\":9071,\"pop\":0.25,\"rain\":{\"3h\":0.41},\"sys\":{\"pod\":\"d\"},\"dt_txt\":\"2025-06-18 18:00:00\"},{\"dt\":1750280400,\"main\":{\"temp\":298.04,\"feels_like\":298.73,\"temp_min\":298.04,\"temp_max\":298.04,\"pressure\":1011,\"sea_level\":1011,\"grnd_level\":1010,\"humidity\":82,\"temp_kf\":0},\"weather\":[{\"id\":500,\"main\":\"Rain\",\"description\":\"light rain\",\"icon\":\"10d\"}],\"clouds\":{\"all\":95},\"wind\":{\"speed\":3.9,\"deg\":169,\"gust\":4.21},\"visibility\":2346,\"pop\":1,\"rain\":{\"3h\":2.93},\"sys\":{\"pod\":\"d\"},\"dt_txt\":\"2025-06-18 21:00:00\"},{\"dt\":1750291200,\"main\":{\"temp\":294.91,\"feels_like\":295.62,\"temp_min\":294.91,\"temp_max\":294.91,\"pressure\":1012,\"sea_level\":1012,\"grnd_level\":1010,\"humidity\":95,\"temp_kf\":0},\"weather\":[{\"id\":501,\"main\":\"Rain\",\"description\":\"moderate rain\",\"icon\":\"10d\"}],\"clouds\":{\"all\":98},\"wind\":{\"speed\":2.97,\"deg\":172,\"gust\":3.95},\"visibility\":3417,\"pop\":1,\"rain\":{\"3h\":7.41},\"sys\":{\"pod\":\"d\"},\"dt_txt\":\"2025-06-19 00:00:00\"},{\"dt\":1750302000,\"main\":{\"temp\":295.41,\"feels_like\":296.2,\"temp_min\":295.41,\"temp_max\":295.41,\"pressure\":1011,\"sea_level\":1011,\"grnd_level\":1009,\"humidity\":96,\"temp_kf\":0},\"weather\":[{\"id\":500,\"main\":\"Rain\",\"description\":\"light rain\",\"icon\":\"10n\"}],\"clouds\":{\"all\":100},\"wind\":{\"speed\":2.29,\"deg\":222,\"gust\":5.74},\"visibility\":10000,\"pop\":0.47,\"rain\":{\"3h\":0.27},\"sys\":{\"pod\":\"n\"},\"dt_txt\":\"2025-06-19 03:00:00\"},{\"dt\":1750312800,\"main\":{\"temp\":295,\"feels_like\":295.8,\"temp_min\":295,\"temp_max\":295,\"pressure\":1011,\"sea_level\":1011,\"grnd_level\":1009,\"humidity\":98,\"temp_kf\":0},\"weather\":[{\"id\":803,\"main\":\"Clouds\",\"description\":\"broken clouds\",\"icon\":\"04n\"}],\"clouds\":{\"all\":55},\"wind\":{\"speed\":2.67,\"deg\":238,\"gust\":6.27},\"visibility\":10000,\"pop\":0,\"sys\":{\"pod\":\"n\"},\"dt_txt\":\"2025-06-19 06:00:00\"},{\"dt\":1750323600,\"main\":{\"temp\":294.53,\"feels_like\":295.26,\"temp_min\":294.53,\"temp_max\":294.53,\"pressure\":1011,\"sea_level\":1011,\"grnd_level\":1010,\"humidity\":97,\"temp_kf\":0},\"weather\":[{\"id\":801,\"main\":\"Clouds\",\"description\":\"few clouds\",\"icon\":\"02n\"}],\"clouds\":{\"all\":16},\"wind\":{\"speed\":2.99,\"deg\":232,\"gust\":8.58},\"visibility\":10000,\"pop\":0,\"sys\":{\"pod\":\"n\"},\"dt_txt\":\"2025-06-19 09:00:00\"},{\"dt\":1750334400,\"main\":{\"temp\":296.86,\"feels_like\":297.53,\"temp_min\":296.86,\"temp_max\":296.86,\"pressure\":1011,\"sea_level\":1011,\"grnd_level\":1010,\"humidity\":86,\"temp_kf\":0},\"weather\":[{\"id\":800,\"main\":\"Clear\",\"description\":\"clear sky\",\"icon\":\"01d\"}],\"clouds\":{\"all\":9},\"wind\":{\"speed\":3.49,\"deg\":229,\"gust\":6.51},\"visibility\":10000,\"pop\":0,\"sys\":{\"pod\":\"d\"},\"dt_txt\":\"2025-06-19 12:00:00\"},{\"dt\":1750345200,\"main\":{\"temp\":302.44,\"feels_like\":304.36,\"temp_min\":302.44,\"temp_max\":302.44,\"pressure\":1010,\"sea_level\":1010,\"grnd_level\":1009,\"humidity\":58,\"temp_kf\":0},\"weather\":[{\"id\":800,\"main\":\"Clear\",\"description\":\"clear sky\",\"icon\":\"01d\"}],\"clouds\":{\"all\":2},\"wind\":{\"speed\":5.41,\"deg\":221,\"gust\":8.23},\"visibility\":10000,\"pop\":0,\"sys\":{\"pod\":\"d\"},\"dt_txt\":\"2025-06-19 15:00:00\"},{\"dt\":1750356000,\"main\":{\"temp\":305.75,\"feels_like\":307.17,\"temp_min\":305.75,\"temp_max\":305.75,\"pressure\":1008,\"sea_level\":1008,\"grnd_level\":1007,\"humidity\":44,\"temp_kf\":0},\"weather\":[{\"id\":800,\"main\":\"Clear\",\"description\":\"clear sky\",\"icon\":\"01d\"}],\"clouds\":{\"all\":6},\"wind\":{\"speed\":6.39,\"deg\":228,\"gust\":10.26},\"visibility\":10000,\"pop\":0,\"sys\":{\"pod\":\"d\"},\"dt_txt\":\"2025-06-19 18:00:00\"},{\"dt\":1750366800,\"main\":{\"temp\":305.43,\"feels_like\":307.08,\"temp_min\":305.43,\"temp_max\":305.43,\"pressure\":1006,\"sea_level\":1006,\"grnd_level\":1005,\"humidity\":46,\"temp_kf\":0},\"weather\":[{\"id\":804,\"main\":\"Clouds\",\"description\":\"overcast clouds\",\"icon\":\"04d\"}],\"clouds\":{\"all\":95},\"wind\":{\"speed\":5.71,\"deg\":240,\"gust\":8.82},\"visibility\":10000,\"pop\":0,\"sys\":{\"pod\":\"d\"},\"dt_txt\":\"2025-06-19 21:00:00\"},{\"dt\":1750377600,\"main\":{\"temp\":296.93,\"feels_like\":297.58,\"temp_min\":296.93,\"temp_max\":296.93,\"pressure\":1009,\"sea_level\":1009,\"grnd_level\":1007,\"humidity\":85,\"temp_kf\":0},\"weather\":[{\"id\":501,\"main\":\"Rain\",\"description\":\"moderate rain\",\"icon\":\"10d\"}],\"clouds\":{\"all\":85},\"wind\":{\"speed\":5.05,\"deg\":262,\"gust\":10.63},\"visibility\":10000,\"pop\":1,\"rain\":{\"3h\":10.55},\"sys\":{\"pod\":\"d\"},\"dt_txt\":\"2025-06-20 00:00:00\"},{\"dt\":1750388400,\"main\":{\"temp\":295.25,\"feels_like\":295.76,\"temp_min\":295.25,\"temp_max\":295.25,\"pressure\":1009,\"sea_level\":1009,\"grnd_level\":1007,\"humidity\":86,\"temp_kf\":0},\"weather\":[{\"id\":804,\"main\":\"Clouds\",\"description\":\"overcast clouds\",\"icon\":\"04n\"}],\"clouds\":{\"all\":92},\"wind\":{\"speed\":4.76,\"deg\":249,\"gust\":9.23},\"visibility\":10000,\"pop\":0,\"sys\":{\"pod\":\"n\"},\"dt_txt\":\"2025-06-20 03:00:00\"},{\"dt\":1750399200,\"main\":{\"temp\":294.17,\"feels_like\":294.34,\"temp_min\":294.17,\"temp_max\":294.17,\"pressure\":1010,\"sea_level\":1010,\"grnd_level\":1009,\"humidity\":77,\"temp_kf\":0},\"weather\":[{\"id\":804,\"main\":\"Clouds\",\"description\":\"overcast clouds\",\"icon\":\"04n\"}],\"clouds\":{\"all\":88},\"wind\":{\"speed\":5.15,\"deg\":304,\"gust\":10.35},\"visibility\":10000,\"pop\":0,\"sys\":{\"pod\":\"n\"},\"dt_txt\":\"2025-06-20 06:00:00\"},{\"dt\":1750410000,\"main\":{\"temp\":291.44,\"feels_like\":291.2,\"temp_min\":291.44,\"temp_max\":291.44,\"pressure\":1011,\"sea_level\":1011,\"grnd_level\":1010,\"humidity\":72,\"temp_kf\":0},\"weather\":[{\"id\":803,\"main\":\"Clouds\",\"description\":\"broken clouds\",\"icon\":\"04n\"}],\"clouds\":{\"all\":61},\"wind\":{\"speed\":5.26,\"deg\":311,\"gust\":12.45},\"visibility\":10000,\"pop\":0,\"sys\":{\"pod\":\"n\"},\"dt_txt\":\"2025-06-20 09:00:00\"},{\"dt\":1750420800,\"main\":{\"temp\":292.9,\"feels_like\":292.6,\"temp_min\":292.9,\"temp_max\":292.9,\"pressure\":1014,\"sea_level\":1014,\"grnd_level\":1012,\"humidity\":64,\"temp_kf\":0},\"weather\":[{\"id\":802,\"main\":\"Clouds\",\"description\":\"scattered clouds\",\"icon\":\"03d\"}],\"clouds\":{\"all\":31},\"wind\":{\"speed\":6.45,\"deg\":311,\"gust\":11.29},\"visibility\":10000,\"pop\":0,\"sys\":{\"pod\":\"d\"},\"dt_txt\":\"2025-06-20 12:00:00\"},{\"dt\":1750431600,\"main\":{\"temp\":298.13,\"feels_like\":297.86,\"temp_min\":298.13,\"temp_max\":298.13,\"pressure\":1014,\"sea_level\":1014,\"grnd_level\":1013,\"humidity\":45,\"temp_kf\":0},\"weather\":[{\"id\":800,\"main\":\"Clear\",\"description\":\"clear sky\",\"icon\":\"01d\"}],\"clouds\":{\"all\":1},\"wind\":{\"speed\":5.67,\"deg\":315,\"gust\":7.88},\"visibility\":10000,\"pop\":0,\"sys\":{\"pod\":\"d\"},\"dt_txt\":\"2025-06-20 15:00:00\"},{\"dt\":1750442400,\"main\":{\"temp\":301.75,\"feels_like\":301,\"temp_min\":301.75,\"temp_max\":301.75,\"pressure\":1015,\"sea_level\":1015,\"grnd_level\":1013,\"humidity\":35,\"temp_kf\":0},\"weather\":[{\"id\":800,\"main\":\"Clear\",\"description\":\"clear sky\",\"icon\":\"01d\"}],\"clouds\":{\"all\":1},\"wind\":{\"speed\":5.69,\"deg\":306,\"gust\":8.01},\"visibility\":10000,\"pop\":0,\"sys\":{\"pod\":\"d\"},\"dt_txt\":\"2025-06-20 18:00:00\"},{\"dt\":1750453200,\"main\":{\"temp\":302.89,\"feels_like\":301.81,\"temp_min\":302.89,\"temp_max\":302.89,\"pressure\":1014,\"sea_level\":1014,\"grnd_level\":1013,\"humidity\":32,\"temp_kf\":0},\"weather\":[{\"id\":800,\"main\":\"Clear\",\"description\":\"clear sky\",\"icon\":\"01d\"}],\"clouds\":{\"all\":0},\"wind\":{\"speed\":3.92,\"deg\":316,\"gust\":6.2},\"visibility\":10000,\"pop\":0,\"sys\":{\"pod\":\"d\"},\"dt_txt\":\"2025-06-20 21:00:00\"},{\"dt\":1750464000,\"main\":{\"temp\":300.41,\"feels_like\":300.62,\"temp_min\":300.41,\"temp_max\":300.41,\"pressure\":1016,\"sea_level\":1016,\"grnd_level\":1014,\"humidity\":47,\"temp_kf\":0},\"weather\":[{\"id\":801,\"main\":\"Clouds\",\"description\":\"few clouds\",\"icon\":\"02d\"}],\"clouds\":{\"all\":12},\"wind\":{\"speed\":3.5,\"deg\":272,\"gust\":5.57},\"visibility\":10000,\"pop\":0,\"sys\":{\"pod\":\"d\"},\"dt_txt\":\"2025-06-21 00:00:00\"},{\"dt\":1750474800,\"main\":{\"temp\":297.49,\"feels_like\":297.62,\"temp_min\":297.49,\"temp_max\":297.49,\"pressure\":1017,\"sea_level\":1017,\"grnd_level\":1015,\"humidity\":63,\"temp_kf\":0},\"weather\":[{\"id\":803,\"main\":\"Clouds\",\"description\":\"broken clouds\",\"icon\":\"04n\"}],\"clouds\":{\"all\":67},\"wind\":{\"speed\":2.18,\"deg\":271,\"gust\":3.17},\"visibility\":10000,\"pop\":0,\"sys\":{\"pod\":\"n\"},\"dt_txt\":\"2025-06-21 03:00:00\"},{\"dt\":1750485600,\"main\":{\"temp\":296.11,\"feels_like\":296.18,\"temp_min\":296.11,\"temp_max\":296.11,\"pressure\":1018,\"sea_level\":1018,\"grnd_level\":1016,\"humidity\":66,\"temp_kf\":0},\"weather\":[{\"id\":803,\"main\":\"Clouds\",\"description\":\"broken clouds\",\"icon\":\"04n\"}],\"clouds\":{\"all\":68},\"wind\":{\"speed\":1.98,\"deg\":304,\"gust\":3.04},\"visibility\":10000,\"pop\":0,\"sys\":{\"pod\":\"n\"},\"dt_txt\":\"2025-06-21 06:00:00\"},{\"dt\":1750496400,\"main\":{\"temp\":294.97,\"feels_like\":294.88,\"temp_min\":294.97,\"temp_max\":294.97,\"pressure\":1018,\"sea_level\":1018,\"grnd_level\":1017,\"humidity\":64,\"temp_kf\":0},\"weather\":[{\"id\":802,\"main\":\"Clouds\",\"description\":\"scattered clouds\",\"icon\":\"03n\"}],\"clouds\":{\"all\":26},\"wind\":{\"speed\":2.18,\"deg\":328,\"gust\":3.75},\"visibility\":10000,\"pop\":0,\"sys\":{\"pod\":\"n\"},\"dt_txt\":\"2025-06-21 09:00:00\"},{\"dt\":1750507200,\"main\":{\"temp\":297.49,\"feels_like\":297.42,\"temp_min\":297.49,\"temp_max\":297.49,\"pressure\":1019,\"sea_level\":1019,\"grnd_level\":1017,\"humidity\":55,\"temp_kf\":0},\"weather\":[{\"id\":801,\"main\":\"Clouds\",\"description\":\"few clouds\",\"icon\":\"02d\"}],\"clouds\":{\"all\":18},\"wind\":{\"speed\":1.69,\"deg\":280,\"gust\":2.32},\"visibility\":10000,\"pop\":0,\"sys\":{\"pod\":\"d\"},\"dt_txt\":\"2025-06-21 12:00:00\"},{\"dt\":1750518000,\"main\":{\"temp\":301.52,\"feels_like\":301.47,\"temp_min\":301.52,\"temp_max\":301.52,\"pressure\":1020,\"sea_level\":1020,\"grnd_level\":1018,\"humidity\":44,\"temp_kf\":0},\"weather\":[{\"id\":802,\"main\":\"Clouds\",\"description\":\"scattered clouds\",\"icon\":\"03d\"}],\"clouds\":{\"all\":37},\"wind\":{\"speed\":3.53,\"deg\":259,\"gust\":4.72},\"visibility\":10000,\"pop\":0,\"sys\":{\"pod\":\"d\"},\"dt_txt\":\"2025-06-21 15:00:00\"},{\"dt\":1750528800,\"main\":{\"temp\":304.04,\"feels_like\":303.52,\"temp_min\":304.04,\"temp_max\":304.04,\"pressure\":1018,\"sea_level\":1018,\"grnd_level\":1016,\"humidity\":37,\"temp_kf\":0},\"weather\":[{\"id\":803,\"main\":\"Clouds\",\"description\":\"broken clouds\",\"icon\":\"04d\"}],\"clouds\":{\"all\":68},\"wind\":{\"speed\":4.55,\"deg\":238,\"gust\":5.7},\"visibility\":10000,\"pop\":0,\"sys\":{\"pod\":\"d\"},\"dt_txt\":\"2025-06-21 18:00:00\"},{\"dt\":1750539600,\"main\":{\"temp\":304.15,\"feels_like\":303.92,\"temp_min\":304.15,\"temp_max\":304.15,\"pressure\":1017,\"sea_level\":1017,\"grnd_level\":1016,\"humidity\":39,\"temp_kf\":0},\"weather\":[{\"id\":804,\"main\":\"Clouds\",\"description\":\"overcast clouds\",\"icon\":\"04d\"}],\"clouds\":{\"all\":92},\"wind\":{\"speed\":4.42,\"deg\":247,\"gust\":4.73},\"visibility\":10000,\"pop\":0,\"sys\":{\"pod\":\"d\"},\"dt_txt\":\"2025-06-21 21:00:00\"},{\"dt\":1750550400,\"main\":{\"temp\":301.47,\"feels_like\":302.07,\"temp_min\":301.47,\"temp_max\":301.47,\"pressure\":1018,\"sea_level\":1018,\"grnd_level\":1016,\"humidity\":51,\"temp_kf\":0},\"weather\":[{\"id\":803,\"main\":\"Clouds\",\"description\":\"broken clouds\",\"icon\":\"04d\"}],\"clouds\":{\"all\":84},\"wind\":{\"speed\":3.51,\"deg\":226,\"gust\":5.18},\"visibility\":10000,\"pop\":0,\"sys\":{\"pod\":\"d\"},\"dt_txt\":\"2025-06-22 00:00:00\"},{\"dt\":1750561200,\"main\":{\"temp\":300.01,\"feels_like\":300.99,\"temp_min\":300.01,\"temp_max\":300.01,\"pressure\":1019,\"sea_level\":1019,\"grnd_level\":1017,\"humidity\":59,\"temp_kf\":0},\"weather\":[{\"id\":804,\"main\":\"Clouds\",\"description\":\"overcast clouds\",\"icon\":\"04n\"}],\"clouds\":{\"all\":100},\"wind\":{\"speed\":2.42,\"deg\":239,\"gust\":5.01},\"visibility\":10000,\"pop\":0,\"sys\":{\"pod\":\"n\"},\"dt_txt\":\"2025-06-22 03:00:00\"},{\"dt\":1750572000,\"main\":{\"temp\":298.01,\"feels_like\":298.25,\"temp_min\":298.01,\"temp_max\":298.01,\"pressure\":1018,\"sea_level\":1018,\"grnd_level\":1017,\"humidity\":65,\"temp_kf\":0},\"weather\":[{\"id\":804,\"main\":\"Clouds\",\"description\":\"overcast clouds\",\"icon\":\"04n\"}],\"clouds\":{\"all\":98},\"wind\":{\"speed\":3.01,\"deg\":242,\"gust\":7.25},\"visibility\":10000,\"pop\":0,\"sys\":{\"pod\":\"n\"},\"dt_txt\":\"2025-06-22 06:00:00\"},{\"dt\":1750582800,\"main\":{\"temp\":297.06,\"feels_like\":297.31,\"temp_min\":297.06,\"temp_max\":297.06,\"pressure\":1018,\"sea_level\":1018,\"grnd_level\":1016,\"humidity\":69,\"temp_kf\":0},\"weather\":[{\"id\":804,\"main\":\"Clouds\",\"description\":\"overcast clouds\",\"icon\":\"04n\"}],\"clouds\":{\"all\":100},\"wind\":{\"speed\":3.16,\"deg\":220,\"gust\":8.72},\"visibility\":10000,\"pop\":0,\"sys\":{\"pod\":\"n\"},\"dt_txt\":\"2025-06-22 09:00:00\"},{\"dt\":1750593600,\"main\":{\"temp\":296.41,\"feels_like\":296.65,\"temp_min\":296.41,\"temp_max\":296.41,\"pressure\":1016,\"sea_level\":1016,\"grnd_level\":1015,\"humidity\":71,\"temp_kf\":0},\"weather\":[{\"id\":804,\"main\":\"Clouds\",\"description\":\"overcast clouds\",\"icon\":\"04d\"}],\"clouds\":{\"all\":100},\"wind\":{\"speed\":4.26,\"deg\":211,\"gust\":9.89},\"visibility\":10000,\"pop\":0,\"sys\":{\"pod\":\"d\"},\"dt_txt\":\"2025-06-22 12:00:00\"},{\"dt\":1750604400,\"main\":{\"temp\":297.26,\"feels_like\":297.71,\"temp_min\":297.26,\"temp_max\":297.26,\"pressure\":1016,\"sea_level\":1016,\"grnd_level\":1015,\"humidity\":76,\"temp_kf\":0},\"weather\":[{\"id\":500,\"main\":\"Rain\",\"description\":\"light rain\",\"icon\":\"10d\"}],\"clouds\":{\"all\":100},\"wind\":{\"speed\":2.76,\"deg\":279,\"gust\":5.82},\"visibility\":6222,\"pop\":1,\"rain\":{\"3h\":1.04},\"sys\":{\"pod\":\"d\"},\"dt_txt\":\"2025-06-22 15:00:00\"},{\"dt\":1750615200,\"main\":{\"temp\":297.2,\"feels_like\":297.91,\"temp_min\":297.2,\"temp_max\":297.2,\"pressure\":1016,\"sea_level\":1016,\"grnd_level\":1014,\"humidity\":86,\"temp_kf\":0},\"weather\":[{\"id\":501,\"main\":\"Rain\",\"description\":\"moderate rain\",\"icon\":\"10d\"}],\"clouds\":{\"all\":100},\"wind\":{\"speed\":1.42,\"deg\":266,\"gust\":3.28},\"visibility\":10000,\"pop\":1,\"rain\":{\"3h\":4.42},\"sys\":{\"pod\":\"d\"},\"dt_txt\":\"2025-06-22 18:00:00\"},{\"dt\":1750626000,\"main\":{\"temp\":299.69,\"feels_like\":299.69,\"temp_min\":299.69,\"temp_max\":299.69,\"pressure\":1015,\"sea_level\":1015,\"grnd_level\":1014,\"humidity\":78,\"temp_kf\":0},\"weather\":[{\"id\":500,\"main\":\"Rain\",\"description\":\"light rain\",\"icon\":\"10d\"}],\"clouds\":{\"all\":82},\"wind\":{\"speed\":1.7,\"deg\":179,\"gust\":1.77},\"visibility\":9600,\"pop\":1,\"rain\":{\"3h\":1.41},\"sys\":{\"pod\":\"d\"},\"dt_txt\":\"2025-06-22 21:00:00\"},{\"dt\":1750636800,\"main\":{\"temp\":298.28,\"feels_like\":298.99,\"temp_min\":298.28,\"temp_max\":298.28,\"pressure\":1016,\"sea_level\":1016,\"grnd_level\":1014,\"humidity\":82,\"temp_kf\":0},\"weather\":[{\"id\":803,\"main\":\"Clouds\",\"description\":\"broken clouds\",\"icon\":\"04d\"}],\"clouds\":{\"all\":66},\"wind\":{\"speed\":2.25,\"deg\":108,\"gust\":2.78},\"visibility\":10000,\"pop\":0.8,\"sys\":{\"pod\":\"d\"},\"dt_txt\":\"2025-06-23 00:00:00\"},{\"dt\":1750647600,\"main\":{\"temp\":296.2,\"feels_like\":296.83,\"temp_min\":296.2,\"temp_max\":296.2,\"pressure\":1017,\"sea_level\":1017,\"grnd_level\":1016,\"humidity\":87,\"temp_kf\":0},\"weather\":[{\"id\":802,\"main\":\"Clouds\",\"description\":\"scattered clouds\",\"icon\":\"03n\"}],\"clouds\":{\"all\":27},\"wind\":{\"speed\":2.43,\"deg\":89,\"gust\":3.59},\"visibility\":10000,\"pop\":0,\"sys\":{\"pod\":\"n\"},\"dt_txt\":\"2025-06-23 03:00:00\"},{\"dt\":1750658400,\"main\":{\"temp\":295.3,\"feels_like\":295.84,\"temp_min\":295.3,\"temp_max\":295.3,\"pressure\":1018,\"sea_level\":1018,\"grnd_level\":1016,\"humidity\":87,\"temp_kf\":0},\"weather\":[{\"id\":803,\"main\":\"Clouds\",\"description\":\"broken clouds\",\"icon\":\"04n\"}],\"clouds\":{\"all\":52},\"wind\":{\"speed\":2.92,\"deg\":58,\"gust\":4.07},\"visibility\":10000,\"pop\":0,\"sys\":{\"pod\":\"n\"},\"dt_txt\":\"2025-06-23 06:00:00\"},{\"dt\":1750669200,\"main\":{\"temp\":293.97,\"feels_like\":294.43,\"temp_min\":293.97,\"temp_max\":293.97,\"pressure\":1019,\"sea_level\":1019,\"grnd_level\":1017,\"humidity\":89,\"temp_kf\":0},\"weather\":[{\"id\":802,\"main\":\"Clouds\",\"description\":\"scattered clouds\",\"icon\":\"03n\"}],\"clouds\":{\"all\":46},\"wind\":{\"speed\":2.65,\"deg\":43,\"gust\":4.42},\"visibility\":10000,\"pop\":0,\"sys\":{\"pod\":\"n\"},\"dt_txt\":\"2025-06-23 09:00:00\"}],\"city\":{\"id\":5125125,\"name\":\"Long Island City\",\"coord\":{\"lat\":40.7306,\"lon\":-73.9352},\"country\":\"US\",\"population\":25595,\"timezone\":-14400,\"sunrise\":1750238652,\"sunset\":1750292981}}\n"
          ]
        }
      ]
    },
    {
      "cell_type": "code",
      "metadata": {
        "id": "01490491"
      },
      "source": [
        "def get_weather(city: str):\n",
        "    \"\"\"Fetches weather information for a given city using RapidAPI.\"\"\"\n",
        "    url = \"https://open-weather13.p.rapidapi.com/city\"\n",
        "    querystring = {\"city\": city, \"lang\": \"EN\"}\n",
        "    headers = {\n",
        "        \"x-rapidapi-key\": \"f39e410c6bmshad955ee7a034f9dp103e71jsn04ceecae5446\", # Using userdata to store the key\n",
        "        \"x-rapidapi-host\": \"open-weather13.p.rapidapi.com\"\n",
        "    }\n",
        "    try:\n",
        "        response = requests.get(url, headers=headers, params=querystring)\n",
        "        response.raise_for_status()  # Raise an exception for bad status codes\n",
        "        return response.json()\n",
        "    except requests.exceptions.RequestException as e:\n",
        "        return f\"Error fetching weather data: {e}\""
      ],
      "execution_count": 9,
      "outputs": []
    },
    {
      "cell_type": "code",
      "metadata": {
        "collapsed": true,
        "id": "33cb9689",
        "colab": {
          "base_uri": "https://localhost:8080/"
        },
        "outputId": "e5aa44ea-b687-4696-fe83-77ff846e8c19"
      },
      "source": [
        "from langchain.agents import Tool\n",
        "\n",
        "tool_weather = Tool(\n",
        "    name=\"get_weather\",\n",
        "    func=get_weather,\n",
        "    description=\"Useful for when you need to get the current weather for a city. Input should be a city name.\"\n",
        ")\n",
        "tool_weather.invoke(\"Lahore\")"
      ],
      "execution_count": 10,
      "outputs": [
        {
          "output_type": "stream",
          "name": "stderr",
          "text": [
            "WARNING:langsmith.client:Failed to send compressed multipart ingest: langsmith.utils.LangSmithError: Failed to POST https://api.smith.langchain.com/runs/multipart in LangSmith API. HTTPError('403 Client Error: Forbidden for url: https://api.smith.langchain.com/runs/multipart', '{\"error\":\"Forbidden\"}\\n')\n"
          ]
        },
        {
          "output_type": "execute_result",
          "data": {
            "text/plain": [
              "{'coord': {'lon': 74.3436, 'lat': 31.5497},\n",
              " 'weather': [{'id': 802,\n",
              "   'main': 'Clouds',\n",
              "   'description': 'scattered clouds',\n",
              "   'icon': '03d'}],\n",
              " 'base': 'stations',\n",
              " 'main': {'temp': 102.18,\n",
              "  'feels_like': 113.43,\n",
              "  'temp_min': 102.18,\n",
              "  'temp_max': 102.18,\n",
              "  'pressure': 993,\n",
              "  'humidity': 39,\n",
              "  'sea_level': 993,\n",
              "  'grnd_level': 970},\n",
              " 'visibility': 6000,\n",
              " 'wind': {'speed': 6.91, 'deg': 180},\n",
              " 'clouds': {'all': 40},\n",
              " 'dt': 1750246494,\n",
              " 'sys': {'type': 1,\n",
              "  'id': 7585,\n",
              "  'country': 'PK',\n",
              "  'sunrise': 1750204661,\n",
              "  'sunset': 1750255789},\n",
              " 'timezone': 18000,\n",
              " 'id': 1172451,\n",
              " 'name': 'Lahore',\n",
              " 'cod': 200}"
            ]
          },
          "metadata": {},
          "execution_count": 10
        }
      ]
    },
    {
      "cell_type": "markdown",
      "metadata": {
        "id": "NZBxZUv81QYz"
      },
      "source": [
        "### When we implement tools, we always need to make 2 changes to the code:\n",
        "\n",
        "1. Changes to provide the tools to OpenAI in json when we make the call\n",
        "\n",
        "2. Changes to handle the results back: look for the model staying that the finish_reason==\"tool_calls\" and then retrieve the call, run the function, provide the results."
      ]
    },
    {
      "cell_type": "markdown",
      "metadata": {
        "id": "8ECQXcaG1QYz"
      },
      "source": [
        "### Bring them together"
      ]
    },
    {
      "cell_type": "code",
      "execution_count": 11,
      "metadata": {
        "id": "3aQyT5O91QYz"
      },
      "outputs": [],
      "source": [
        "tools = [tool_search, tool_weather]"
      ]
    },
    {
      "cell_type": "code",
      "execution_count": 12,
      "metadata": {
        "id": "Cchy-1101QYz"
      },
      "outputs": [],
      "source": [
        "# Step 1: Define the State object\n",
        "class State(TypedDict): #This line defines a class named State that inherits from TypedDict. This is overall a data structure.\n",
        "# State is a class that tells Python: “I expect a dictionary with a key called messages, and it must be a list with special behavior.”\n",
        "# You create an object when you use this class to hold actual data.\n",
        "    messages: Annotated[list, add_messages]"
      ]
    },
    {
      "cell_type": "code",
      "execution_count": 13,
      "metadata": {
        "id": "JdnINrsk1QYz"
      },
      "outputs": [],
      "source": [
        "# Step 2: Start the Graph Builder with this State class\n",
        "graph_builder = StateGraph(State)"
      ]
    },
    {
      "cell_type": "code",
      "source": [
        "from google.colab import userdata\n",
        "openkey = userdata.get('OpenAI')"
      ],
      "metadata": {
        "id": "HARod8sU7_Qy",
        "colab": {
          "base_uri": "https://localhost:8080/"
        },
        "outputId": "bedeb219-5657-4552-f562-d3bab1a3f156"
      },
      "execution_count": 14,
      "outputs": [
        {
          "output_type": "stream",
          "name": "stderr",
          "text": [
            "WARNING:langsmith.client:Failed to send compressed multipart ingest: langsmith.utils.LangSmithError: Failed to POST https://api.smith.langchain.com/runs/multipart in LangSmith API. HTTPError('403 Client Error: Forbidden for url: https://api.smith.langchain.com/runs/multipart', '{\"error\":\"Forbidden\"}\\n')\n"
          ]
        }
      ]
    },
    {
      "cell_type": "code",
      "execution_count": 15,
      "metadata": {
        "id": "XuXfNY1U1QYz"
      },
      "outputs": [],
      "source": [
        "# This is different:\n",
        "\n",
        "llm = ChatOpenAI(model=\"gpt-4.1-nano\", api_key = openkey)\n",
        "llm_with_tools = llm.bind_tools(tools)"
      ]
    },
    {
      "cell_type": "markdown",
      "source": [
        "## You’re building a LangGraph with two nodes:\n",
        "\n",
        "1. A chatbot node that uses an LLM to generate responses.\n",
        "2. A tools node that gives the agent access to external tools (like search, weather, etc.).\n"
      ],
      "metadata": {
        "id": "A25dR2KJpRFh"
      }
    },
    {
      "cell_type": "code",
      "execution_count": 16,
      "metadata": {
        "id": "FnyO1_A11QYz",
        "collapsed": true,
        "colab": {
          "base_uri": "https://localhost:8080/"
        },
        "outputId": "1d584859-74c0-42d3-b7d8-16fc75a20b59"
      },
      "outputs": [
        {
          "output_type": "execute_result",
          "data": {
            "text/plain": [
              "<langgraph.graph.state.StateGraph at 0x7c65459fd210>"
            ]
          },
          "metadata": {},
          "execution_count": 16
        }
      ],
      "source": [
        "# Step 3: Create a Node\n",
        "\n",
        "\n",
        "def chatbot(state: State):\n",
        "    return {\"messages\": [llm_with_tools.invoke(state[\"messages\"])]}\n",
        "\n",
        "graph_builder.add_node(\"chatbot\", chatbot)\n",
        "graph_builder.add_node(\"tools\", ToolNode(tools=tools))\n",
        "\n"
      ]
    },
    {
      "cell_type": "code",
      "execution_count": 17,
      "metadata": {
        "id": "GCCOT7BH1QYz",
        "collapsed": true,
        "colab": {
          "base_uri": "https://localhost:8080/"
        },
        "outputId": "3a3502f1-c21b-44a1-8b1a-a9efd3bd3222"
      },
      "outputs": [
        {
          "output_type": "execute_result",
          "data": {
            "text/plain": [
              "<langgraph.graph.state.StateGraph at 0x7c65459fd210>"
            ]
          },
          "metadata": {},
          "execution_count": 17
        }
      ],
      "source": [
        "# Step 4: Create Edges\n",
        "\n",
        "\n",
        "graph_builder.add_conditional_edges( \"chatbot\", tools_condition, \"tools\")\n",
        "\n",
        "# Any time a tool is called, we return to the chatbot to decide the next step\n",
        "graph_builder.add_edge(START, \"chatbot\")\n",
        "graph_builder.add_edge(\"tools\", \"chatbot\")\n",
        "# graph_builder.add_edge(START, \"chatbot\")"
      ]
    },
    {
      "cell_type": "code",
      "execution_count": 18,
      "metadata": {
        "id": "KNn2KLWP1QYz",
        "colab": {
          "base_uri": "https://localhost:8080/",
          "height": 266
        },
        "outputId": "fa96098c-7550-4c9e-ed58-264f8afcd854"
      },
      "outputs": [
        {
          "output_type": "display_data",
          "data": {
            "image/png": "[encoded data removed]",
            "text/plain": [
              "<IPython.core.display.Image object>"
            ]
          },
          "metadata": {}
        }
      ],
      "source": [
        "# Step 5: Compile the Graph\n",
        "graph = graph_builder.compile()\n",
        "display(Image(graph.get_graph().draw_mermaid_png()))"
      ]
    },
    {
      "cell_type": "markdown",
      "source": [
        "### 🧠 First, think of LangGraph as a flowchart:\n",
        "- You define nodes like chatbot and tools.\n",
        "- Then you define how data flows between them using edges.\n",
        "\n",
        "These edges can be:\n",
        "- Simple: always go from Node A to Node B.\n",
        "- Conditional: go to different nodes based on logic.\n",
        "\n",
        "🧩 Let's break it down step by step:\n",
        "```python\n",
        "### graph_builder.add_conditional_edges(\"chatbot\", tools_condition, \"tools\")\n",
        "\n",
        "\n",
        "✅ **Purpose**: Adds a **conditional edge** from `\"chatbot\"` to `\"tools\"`.\n",
        "\n",
        "- This means:  \n",
        "  → After the chatbot runs, check `tools_condition`.  \n",
        "  → If it returns `True` (i.e., a tool is needed), go to the `\"tools\"` node.\n",
        "\n",
        "🧠 `tools_condition` is a function you must define somewhere, and it checks:\n",
        "> *\"Did the LLM request a tool?\"*\n",
        "\n",
        "---\n",
        "\n",
        "#### ```python\n",
        "graph_builder.add_edge(START, \"chatbot\")\n"
      ],
      "metadata": {
        "id": "URf9Al9ttS4F"
      }
    },
    {
      "cell_type": "markdown",
      "source": [
        "✅ Purpose: Set the starting point of the graph.\n",
        "\n",
        "- The graph begins with the chatbot node.\n",
        "- The user message first goes to the LLM.\n",
        "\n"
      ],
      "metadata": {
        "id": "6F5HfCR0tvUy"
      }
    },
    {
      "cell_type": "code",
      "source": [
        "#graph_builder.add_edge(\"tools\", \"chatbot\")"
      ],
      "metadata": {
        "id": "cDyIAhEcukd0"
      },
      "execution_count": 19,
      "outputs": []
    },
    {
      "cell_type": "markdown",
      "source": [
        "\n",
        "✅ **Purpose**: Create a loop between tools and chatbot.\n",
        "\n",
        "- Once the tool (like search, weather, etc.) is used,\n",
        "- The flow **goes back to the chatbot** to let the LLM decide what to say next.\n",
        "\n",
        "---\n",
        "\n",
        "### 🔁 Visual Summary:\n",
        "\n",
        "```text\n",
        "START → chatbot ──────▶ tools\n",
        "           ▲               │\n",
        "           └──── back ◀────┘\n",
        "\n"
      ],
      "metadata": {
        "id": "qeVfePYPuF3I"
      }
    },
    {
      "cell_type": "markdown",
      "source": [
        "### ✅ TL;DR:\n",
        "You're wiring up the flow:\n",
        "\n",
        "1. Start at chatbot\n",
        "2. If a tool is needed → go to tools\n",
        "3. After using the tool → go back to chatbot to continue the conversation.\n"
      ],
      "metadata": {
        "id": "vO0rQW1-utyp"
      }
    },
    {
      "cell_type": "markdown",
      "source": [
        "### 🔚 Why there's no END edge here (yet):\n",
        "In LangGraph, the END edge only needs to be added if you want to stop the flow explicitly.\n",
        "\n",
        "But in your case:\n",
        "\n"
      ],
      "metadata": {
        "id": "Vf9hbvp6u_JQ"
      }
    },
    {
      "cell_type": "code",
      "source": [
        "#graph_builder.add_edge(START, \"chatbot\")\n",
        "#graph_builder.add_conditional_edges(\"chatbot\", tools_condition, \"tools\")\n",
        "#graph_builder.add_edge(\"tools\", \"chatbot\")"
      ],
      "metadata": {
        "id": "v7XanQizvh9s"
      },
      "execution_count": 20,
      "outputs": []
    },
    {
      "cell_type": "markdown",
      "source": [
        "You’ve built a looping system where:\n",
        "\n",
        "1. The flow starts at \"chatbot\".\n",
        "2. If a tool is needed → go to \"tools\" → then back to \"chatbot\".\n",
        "🔁 It keeps repeating until you decide to stop it manually.\n",
        "\n",
        "🧠 So when do you need to add END?\n",
        "You’d use:\n"
      ],
      "metadata": {
        "id": "_Noag9yKv3er"
      }
    },
    {
      "cell_type": "code",
      "source": [
        "#graph_builder.add_edge(\"chatbot\", END)"
      ],
      "metadata": {
        "id": "ywUvWr3-wCCZ"
      },
      "execution_count": 21,
      "outputs": []
    },
    {
      "cell_type": "markdown",
      "source": [
        "### When you want to say:\n",
        "\n",
        "\"If the chatbot is done — like it answered the user and doesn’t need tools — then finish here.\"\n",
        "\n",
        "Usually, this is added conditionally like:"
      ],
      "metadata": {
        "id": "Ks84ScSpwG63"
      }
    },
    {
      "cell_type": "code",
      "source": [
        "#graph_builder.add_conditional_edges(\"chatbot\", tools_condition, \"tools\", default=END)"
      ],
      "metadata": {
        "id": "wAHwNJUqwNED"
      },
      "execution_count": 22,
      "outputs": []
    },
    {
      "cell_type": "markdown",
      "source": [
        "Otherwise → go to END\n",
        "\n",
        "### ✅ TL;DR:\n",
        "You haven’t added END yet because your flow is looping indefinitely — it keeps going from chatbot → tools → chatbot.\n",
        "You should add an END edge if you want to exit the loop when the chatbot is done responding."
      ],
      "metadata": {
        "id": "Y0U52l6AwPn1"
      }
    },
    {
      "cell_type": "markdown",
      "metadata": {
        "id": "H-nMv8261QYz"
      },
      "source": [
        "### That's it! And, let's do this:"
      ]
    },
    {
      "cell_type": "code",
      "execution_count": 23,
      "metadata": {
        "id": "8sgXZDre1QYz",
        "colab": {
          "base_uri": "https://localhost:8080/",
          "height": 680
        },
        "collapsed": true,
        "outputId": "0557b3f4-06d2-46d8-8d10-bc7491c8ec96"
      },
      "outputs": [
        {
          "output_type": "stream",
          "name": "stdout",
          "text": [
            "It looks like you are running Gradio on a hosted a Jupyter notebook. For the Gradio app to work, sharing must be enabled. Automatically setting `share=True` (you can turn this off by setting `share=False` in `launch()` explicitly).\n",
            "\n",
            "Colab notebook detected. This cell will run indefinitely so that you can see errors and logs. To turn off, set debug=False in launch().\n",
            "* Running on public URL: https://18fe5788c66b0010db.gradio.live\n",
            "\n",
            "This share link expires in 1 week. For free permanent hosting and GPU upgrades, run `gradio deploy` from the terminal in the working directory to deploy to Hugging Face Spaces (https://huggingface.co/spaces)\n"
          ]
        },
        {
          "output_type": "display_data",
          "data": {
            "text/plain": [
              "<IPython.core.display.HTML object>"
            ],
            "text/html": [
              "<div><iframe src=\"https://18fe5788c66b0010db.gradio.live\" width=\"100%\" height=\"500\" allow=\"autoplay; camera; microphone; clipboard-read; clipboard-write;\" frameborder=\"0\" allowfullscreen></iframe></div>"
            ]
          },
          "metadata": {}
        },
        {
          "output_type": "stream",
          "name": "stdout",
          "text": [
            "Keyboard interruption in main thread... closing server.\n",
            "Killing tunnel 127.0.0.1:7860 <> https://18fe5788c66b0010db.gradio.live\n"
          ]
        },
        {
          "output_type": "execute_result",
          "data": {
            "text/plain": []
          },
          "metadata": {},
          "execution_count": 23
        }
      ],
      "source": [
        "def chat(user_input: str, history):\n",
        "    result = graph.invoke({\"messages\": [{\"role\": \"user\", \"content\": user_input}]})\n",
        "    return result[\"messages\"][-1].content\n",
        "\n",
        "\n",
        "gr.ChatInterface(chat, type=\"messages\").launch(debug=True)"
      ]
    },
    {
      "cell_type": "markdown",
      "metadata": {
        "id": "NMgGXzU41QY0"
      },
      "source": [
        "## OK it's time to add Memory!\n",
        "\n",
        "### BUT WAIT!\n",
        "\n",
        "We have this whole Graph maintaining the state and appending to the state.\n",
        "\n",
        "Why isn't this handling memory?\n",
        "\n",
        "### This is a crucial point for understanding LangGraph\n",
        "\n",
        "> A super-step can be considered a single iteration over the graph nodes. Nodes that run in parallel are part of the same super-step, while nodes that run sequentially belong to separate super-steps.\n",
        "\n",
        "\n",
        "One \"Super-Step\" of the graph represents one invocation of passing messages between agents.\n",
        "\n",
        "In idomatic LangGraph, you call invoke to run your graph for each super-step; for each interaction.\n",
        "\n",
        "The reducer handles state updates automatically within one super-step, but not between them.\n",
        "\n",
        "That is what checkpointing achieves."
      ]
    },
    {
      "cell_type": "code",
      "execution_count": 24,
      "metadata": {
        "id": "wkgkETw51QY0"
      },
      "outputs": [],
      "source": [
        "from langgraph.checkpoint.memory import MemorySaver\n",
        "\n",
        "memory = MemorySaver()"
      ]
    },
    {
      "cell_type": "code",
      "execution_count": 25,
      "metadata": {
        "id": "xSBXeDJV1QY0",
        "colab": {
          "base_uri": "https://localhost:8080/",
          "height": 266
        },
        "outputId": "47e0a761-82e3-4878-c353-af9613e7c738"
      },
      "outputs": [
        {
          "output_type": "display_data",
          "data": {
            "image/png": "[encoded data removed]",
            "text/plain": [
              "<IPython.core.display.Image object>"
            ]
          },
          "metadata": {}
        }
      ],
      "source": [
        "# Steps 1 and 2\n",
        "graph_builder = StateGraph(State)\n",
        "\n",
        "\n",
        "# Step 3\n",
        "llm = ChatOpenAI(model=\"gpt-4.1-nano\", api_key = openkey)\n",
        "llm_with_tools = llm.bind_tools(tools)\n",
        "\n",
        "def chatbot(state: State):\n",
        "    print(state)\n",
        "    return {\"messages\": [llm_with_tools.invoke(state[\"messages\"])]}\n",
        "\n",
        "graph_builder.add_node(\"chatbot\", chatbot)\n",
        "graph_builder.add_node(\"tools\", ToolNode(tools=tools))\n",
        "\n",
        "# Step 4\n",
        "graph_builder.add_conditional_edges( \"chatbot\", tools_condition, \"tools\")\n",
        "graph_builder.add_edge(\"tools\", \"chatbot\")\n",
        "graph_builder.add_edge(START, \"chatbot\")\n",
        "\n",
        "# Step 5\n",
        "graph = graph_builder.compile(checkpointer=memory)\n",
        "display(Image(graph.get_graph().draw_mermaid_png()))"
      ]
    },
    {
      "cell_type": "code",
      "execution_count": 26,
      "metadata": {
        "id": "ahj38fDG1QY0",
        "colab": {
          "base_uri": "https://localhost:8080/",
          "height": 645
        },
        "outputId": "aba2e199-5cdd-4879-b5e9-2c24f0066d39"
      },
      "outputs": [
        {
          "output_type": "stream",
          "name": "stdout",
          "text": [
            "It looks like you are running Gradio on a hosted a Jupyter notebook. For the Gradio app to work, sharing must be enabled. Automatically setting `share=True` (you can turn this off by setting `share=False` in `launch()` explicitly).\n",
            "\n",
            "Colab notebook detected. To show errors in colab notebook, set debug=True in launch()\n",
            "* Running on public URL: https://8399d7afb0fe75c37f.gradio.live\n",
            "\n",
            "This share link expires in 1 week. For free permanent hosting and GPU upgrades, run `gradio deploy` from the terminal in the working directory to deploy to Hugging Face Spaces (https://huggingface.co/spaces)\n"
          ]
        },
        {
          "output_type": "display_data",
          "data": {
            "text/plain": [
              "<IPython.core.display.HTML object>"
            ],
            "text/html": [
              "<div><iframe src=\"https://8399d7afb0fe75c37f.gradio.live\" width=\"100%\" height=\"500\" allow=\"autoplay; camera; microphone; clipboard-read; clipboard-write;\" frameborder=\"0\" allowfullscreen></iframe></div>"
            ]
          },
          "metadata": {}
        },
        {
          "output_type": "execute_result",
          "data": {
            "text/plain": []
          },
          "metadata": {},
          "execution_count": 26
        }
      ],
      "source": [
        "config = {\"configurable\": {\"thread_id\": \"1\"}}\n",
        "\n",
        "def chat(user_input: str, history):\n",
        "    result = graph.invoke({\"messages\": [{\"role\": \"user\", \"content\": user_input}]}, config=config)\n",
        "    return result[\"messages\"][-1].content\n",
        "\n",
        "\n",
        "gr.ChatInterface(chat, type=\"messages\").launch()"
      ]
    },
    {
      "cell_type": "code",
      "execution_count": 27,
      "metadata": {
        "id": "5cok-3za1QY0",
        "collapsed": true,
        "colab": {
          "base_uri": "https://localhost:8080/"
        },
        "outputId": "6710ff0f-6203-4dd7-afe3-83421f8c8eef"
      },
      "outputs": [
        {
          "output_type": "execute_result",
          "data": {
            "text/plain": [
              "StateSnapshot(values={}, next=(), config={'configurable': {'thread_id': '1'}}, metadata=None, created_at=None, parent_config=None, tasks=(), interrupts=())"
            ]
          },
          "metadata": {},
          "execution_count": 27
        }
      ],
      "source": [
        "graph.get_state(config)"
      ]
    },
    {
      "cell_type": "code",
      "execution_count": 28,
      "metadata": {
        "id": "7jGOS73o1QY0",
        "collapsed": true,
        "colab": {
          "base_uri": "https://localhost:8080/"
        },
        "outputId": "5e41e27c-0e73-4a1f-c676-55523db6ea47"
      },
      "outputs": [
        {
          "output_type": "execute_result",
          "data": {
            "text/plain": [
              "[]"
            ]
          },
          "metadata": {},
          "execution_count": 28
        }
      ],
      "source": [
        "# Most recent first\n",
        "\n",
        "list(graph.get_state_history(config))"
      ]
    },
    {
      "cell_type": "markdown",
      "metadata": {
        "id": "jsNSXjGY1QY0"
      },
      "source": [
        "### LangGraph gives you tools to set the state back to a prior point in time, to branch off:\n",
        "\n",
        "```\n",
        "config = {\"configurable\": {\"thread_id\": \"1\", \"checkpoint_id\": ...}}\n",
        "graph.invoke(None, config=config)\n",
        "```\n",
        "\n",
        "And this allows you to build stable systems that can be recovered and rerun from any prior checkpoint."
      ]
    },
    {
      "cell_type": "markdown",
      "metadata": {
        "id": "NLI6UA-21QY0"
      },
      "source": [
        "### And now let's store in SQL\n",
        "\n",
        "### And this is the power of LangGraph."
      ]
    },
    {
      "cell_type": "code",
      "metadata": {
        "collapsed": true,
        "id": "43c02292",
        "colab": {
          "base_uri": "https://localhost:8080/",
          "height": 811
        },
        "outputId": "4c0f5f53-2e8e-45b1-d420-aa5a721f3c1e"
      },
      "source": [
        "!pip install langgraph-checkpoint-sqlite"
      ],
      "execution_count": 29,
      "outputs": [
        {
          "output_type": "stream",
          "name": "stdout",
          "text": [
            "Collecting langgraph-checkpoint-sqlite\n",
            "  Downloading langgraph_checkpoint_sqlite-2.0.10-py3-none-any.whl.metadata (2.7 kB)\n",
            "Collecting aiosqlite>=0.20 (from langgraph-checkpoint-sqlite)\n",
            "  Downloading aiosqlite-0.21.0-py3-none-any.whl.metadata (4.3 kB)\n",
            "Requirement already satisfied: langgraph-checkpoint>=2.0.21 in /usr/local/lib/python3.11/dist-packages (from langgraph-checkpoint-sqlite) (2.1.0)\n",
            "Collecting sqlite-vec>=0.1.6 (from langgraph-checkpoint-sqlite)\n",
            "  Downloading sqlite_vec-0.1.6-py3-none-manylinux_2_17_x86_64.manylinux2014_x86_64.manylinux1_x86_64.whl.metadata (198 bytes)\n",
            "Requirement already satisfied: typing_extensions>=4.0 in /usr/local/lib/python3.11/dist-packages (from aiosqlite>=0.20->langgraph-checkpoint-sqlite) (4.14.0)\n",
            "Requirement already satisfied: langchain-core>=0.2.38 in /usr/local/lib/python3.11/dist-packages (from langgraph-checkpoint>=2.0.21->langgraph-checkpoint-sqlite) (0.3.65)\n",
            "Requirement already satisfied: ormsgpack>=1.10.0 in /usr/local/lib/python3.11/dist-packages (from langgraph-checkpoint>=2.0.21->langgraph-checkpoint-sqlite) (1.10.0)\n",
            "Requirement already satisfied: langsmith<0.4,>=0.3.45 in /usr/local/lib/python3.11/dist-packages (from langchain-core>=0.2.38->langgraph-checkpoint>=2.0.21->langgraph-checkpoint-sqlite) (0.3.45)\n",
            "Requirement already satisfied: tenacity!=8.4.0,<10.0.0,>=8.1.0 in /usr/local/lib/python3.11/dist-packages (from langchain-core>=0.2.38->langgraph-checkpoint>=2.0.21->langgraph-checkpoint-sqlite) (9.1.2)\n",
            "Requirement already satisfied: jsonpatch<2.0,>=1.33 in /usr/local/lib/python3.11/dist-packages (from langchain-core>=0.2.38->langgraph-checkpoint>=2.0.21->langgraph-checkpoint-sqlite) (1.33)\n",
            "Requirement already satisfied: PyYAML>=5.3 in /usr/local/lib/python3.11/dist-packages (from langchain-core>=0.2.38->langgraph-checkpoint>=2.0.21->langgraph-checkpoint-sqlite) (6.0.2)\n",
            "Requirement already satisfied: packaging<25,>=23.2 in /usr/local/lib/python3.11/dist-packages (from langchain-core>=0.2.38->langgraph-checkpoint>=2.0.21->langgraph-checkpoint-sqlite) (24.2)\n",
            "Requirement already satisfied: pydantic>=2.7.4 in /usr/local/lib/python3.11/dist-packages (from langchain-core>=0.2.38->langgraph-checkpoint>=2.0.21->langgraph-checkpoint-sqlite) (2.11.5)\n",
            "Requirement already satisfied: jsonpointer>=1.9 in /usr/local/lib/python3.11/dist-packages (from jsonpatch<2.0,>=1.33->langchain-core>=0.2.38->langgraph-checkpoint>=2.0.21->langgraph-checkpoint-sqlite) (3.0.0)\n",
            "Requirement already satisfied: httpx<1,>=0.23.0 in /usr/local/lib/python3.11/dist-packages (from langsmith<0.4,>=0.3.45->langchain-core>=0.2.38->langgraph-checkpoint>=2.0.21->langgraph-checkpoint-sqlite) (0.28.1)\n",
            "Requirement already satisfied: orjson<4.0.0,>=3.9.14 in /usr/local/lib/python3.11/dist-packages (from langsmith<0.4,>=0.3.45->langchain-core>=0.2.38->langgraph-checkpoint>=2.0.21->langgraph-checkpoint-sqlite) (3.10.18)\n",
            "Requirement already satisfied: requests<3,>=2 in /usr/local/lib/python3.11/dist-packages (from langsmith<0.4,>=0.3.45->langchain-core>=0.2.38->langgraph-checkpoint>=2.0.21->langgraph-checkpoint-sqlite) (2.32.3)\n",
            "Requirement already satisfied: requests-toolbelt<2.0.0,>=1.0.0 in /usr/local/lib/python3.11/dist-packages (from langsmith<0.4,>=0.3.45->langchain-core>=0.2.38->langgraph-checkpoint>=2.0.21->langgraph-checkpoint-sqlite) (1.0.0)\n",
            "Requirement already satisfied: zstandard<0.24.0,>=0.23.0 in /usr/local/lib/python3.11/dist-packages (from langsmith<0.4,>=0.3.45->langchain-core>=0.2.38->langgraph-checkpoint>=2.0.21->langgraph-checkpoint-sqlite) (0.23.0)\n",
            "Requirement already satisfied: annotated-types>=0.6.0 in /usr/local/lib/python3.11/dist-packages (from pydantic>=2.7.4->langchain-core>=0.2.38->langgraph-checkpoint>=2.0.21->langgraph-checkpoint-sqlite) (0.7.0)\n",
            "Requirement already satisfied: pydantic-core==2.33.2 in /usr/local/lib/python3.11/dist-packages (from pydantic>=2.7.4->langchain-core>=0.2.38->langgraph-checkpoint>=2.0.21->langgraph-checkpoint-sqlite) (2.33.2)\n",
            "Requirement already satisfied: typing-inspection>=0.4.0 in /usr/local/lib/python3.11/dist-packages (from pydantic>=2.7.4->langchain-core>=0.2.38->langgraph-checkpoint>=2.0.21->langgraph-checkpoint-sqlite) (0.4.1)\n",
            "Requirement already satisfied: anyio in /usr/local/lib/python3.11/dist-packages (from httpx<1,>=0.23.0->langsmith<0.4,>=0.3.45->langchain-core>=0.2.38->langgraph-checkpoint>=2.0.21->langgraph-checkpoint-sqlite) (4.9.0)\n",
            "Requirement already satisfied: certifi in /usr/local/lib/python3.11/dist-packages (from httpx<1,>=0.23.0->langsmith<0.4,>=0.3.45->langchain-core>=0.2.38->langgraph-checkpoint>=2.0.21->langgraph-checkpoint-sqlite) (2025.4.26)\n",
            "Requirement already satisfied: httpcore==1.* in /usr/local/lib/python3.11/dist-packages (from httpx<1,>=0.23.0->langsmith<0.4,>=0.3.45->langchain-core>=0.2.38->langgraph-checkpoint>=2.0.21->langgraph-checkpoint-sqlite) (1.0.9)\n",
            "Requirement already satisfied: idna in /usr/local/lib/python3.11/dist-packages (from httpx<1,>=0.23.0->langsmith<0.4,>=0.3.45->langchain-core>=0.2.38->langgraph-checkpoint>=2.0.21->langgraph-checkpoint-sqlite) (3.10)\n",
            "Requirement already satisfied: h11>=0.16 in /usr/local/lib/python3.11/dist-packages (from httpcore==1.*->httpx<1,>=0.23.0->langsmith<0.4,>=0.3.45->langchain-core>=0.2.38->langgraph-checkpoint>=2.0.21->langgraph-checkpoint-sqlite) (0.16.0)\n",
            "Requirement already satisfied: charset-normalizer<4,>=2 in /usr/local/lib/python3.11/dist-packages (from requests<3,>=2->langsmith<0.4,>=0.3.45->langchain-core>=0.2.38->langgraph-checkpoint>=2.0.21->langgraph-checkpoint-sqlite) (3.4.2)\n",
            "Requirement already satisfied: urllib3<3,>=1.21.1 in /usr/local/lib/python3.11/dist-packages (from requests<3,>=2->langsmith<0.4,>=0.3.45->langchain-core>=0.2.38->langgraph-checkpoint>=2.0.21->langgraph-checkpoint-sqlite) (2.4.0)\n",
            "Requirement already satisfied: sniffio>=1.1 in /usr/local/lib/python3.11/dist-packages (from anyio->httpx<1,>=0.23.0->langsmith<0.4,>=0.3.45->langchain-core>=0.2.38->langgraph-checkpoint>=2.0.21->langgraph-checkpoint-sqlite) (1.3.1)\n",
            "Downloading langgraph_checkpoint_sqlite-2.0.10-py3-none-any.whl (30 kB)\n",
            "Downloading aiosqlite-0.21.0-py3-none-any.whl (15 kB)\n",
            "Downloading sqlite_vec-0.1.6-py3-none-manylinux_2_17_x86_64.manylinux2014_x86_64.manylinux1_x86_64.whl (151 kB)\n",
            "\u001b[2K   \u001b[90m━━━━━━━━━━━━━━━━━━━━━━━━━━━━━━━━━━━━━━━━\u001b[0m \u001b[32m151.6/151.6 kB\u001b[0m \u001b[31m5.0 MB/s\u001b[0m eta \u001b[36m0:00:00\u001b[0m\n",
            "\u001b[?25hInstalling collected packages: sqlite-vec, aiosqlite, langgraph-checkpoint-sqlite\n",
            "Successfully installed aiosqlite-0.21.0 langgraph-checkpoint-sqlite-2.0.10 sqlite-vec-0.1.6\n"
          ]
        },
        {
          "output_type": "display_data",
          "data": {
            "application/vnd.colab-display-data+json": {
              "pip_warning": {
                "packages": [
                  "langgraph"
                ]
              },
              "id": "9584203a898442d3ac78ecd34399e116"
            }
          },
          "metadata": {}
        }
      ]
    },
    {
      "cell_type": "code",
      "execution_count": 30,
      "metadata": {
        "id": "a9NGeYD01QY0"
      },
      "outputs": [],
      "source": [
        "import sqlite3\n",
        "from langgraph.checkpoint.sqlite import SqliteSaver\n",
        "\n",
        "db_path = \"memory.db\"\n",
        "conn = sqlite3.connect(db_path, check_same_thread=False)\n",
        "sql_memory = SqliteSaver(conn)"
      ]
    },
    {
      "cell_type": "code",
      "execution_count": 31,
      "metadata": {
        "id": "ctXbkkKF1QY0",
        "colab": {
          "base_uri": "https://localhost:8080/",
          "height": 266
        },
        "outputId": "0ea8dfa7-c902-4d69-a45e-e54396c47d3a"
      },
      "outputs": [
        {
          "output_type": "display_data",
          "data": {
            "image/png": "[encoded data removed]",
            "text/plain": [
              "<IPython.core.display.Image object>"
            ]
          },
          "metadata": {}
        }
      ],
      "source": [
        "# Steps 1 and 2\n",
        "graph_builder = StateGraph(State)\n",
        "\n",
        "\n",
        "# Step 3\n",
        "llm = ChatOpenAI(model=\"gpt-4.1-nano\", api_key = openkey)\n",
        "llm_with_tools = llm.bind_tools(tools)\n",
        "\n",
        "def chatbot(state: State):\n",
        "    print(state)\n",
        "    return {\"messages\": [llm_with_tools.invoke(state[\"messages\"])]}\n",
        "\n",
        "graph_builder.add_node(\"chatbot\", chatbot)\n",
        "graph_builder.add_node(\"tools\", ToolNode(tools=tools))\n",
        "\n",
        "# Step 4\n",
        "graph_builder.add_conditional_edges( \"chatbot\", tools_condition, \"tools\")\n",
        "graph_builder.add_edge(\"tools\", \"chatbot\")\n",
        "graph_builder.add_edge(START, \"chatbot\")\n",
        "\n",
        "# Step 5\n",
        "graph = graph_builder.compile(checkpointer=sql_memory)\n",
        "display(Image(graph.get_graph().draw_mermaid_png()))\n"
      ]
    },
    {
      "cell_type": "code",
      "execution_count": 32,
      "metadata": {
        "id": "vRmI_9Rm1QY0",
        "colab": {
          "base_uri": "https://localhost:8080/",
          "height": 645
        },
        "outputId": "ddfa3b6c-63f5-4ab8-8c1a-65bbea4f7760"
      },
      "outputs": [
        {
          "output_type": "stream",
          "name": "stdout",
          "text": [
            "It looks like you are running Gradio on a hosted a Jupyter notebook. For the Gradio app to work, sharing must be enabled. Automatically setting `share=True` (you can turn this off by setting `share=False` in `launch()` explicitly).\n",
            "\n",
            "Colab notebook detected. To show errors in colab notebook, set debug=True in launch()\n",
            "* Running on public URL: https://21232f189a7d894be8.gradio.live\n",
            "\n",
            "This share link expires in 1 week. For free permanent hosting and GPU upgrades, run `gradio deploy` from the terminal in the working directory to deploy to Hugging Face Spaces (https://huggingface.co/spaces)\n"
          ]
        },
        {
          "output_type": "display_data",
          "data": {
            "text/plain": [
              "<IPython.core.display.HTML object>"
            ],
            "text/html": [
              "<div><iframe src=\"https://21232f189a7d894be8.gradio.live\" width=\"100%\" height=\"500\" allow=\"autoplay; camera; microphone; clipboard-read; clipboard-write;\" frameborder=\"0\" allowfullscreen></iframe></div>"
            ]
          },
          "metadata": {}
        },
        {
          "output_type": "execute_result",
          "data": {
            "text/plain": []
          },
          "metadata": {},
          "execution_count": 32
        }
      ],
      "source": [
        "config = {\"configurable\": {\"thread_id\": \"3\"}}\n",
        "\n",
        "def chat(user_input: str, history):\n",
        "    result = graph.invoke({\"messages\": [{\"role\": \"user\", \"content\": user_input}]}, config=config)\n",
        "    return result[\"messages\"][-1].content\n",
        "\n",
        "\n",
        "gr.ChatInterface(chat, type=\"messages\").launch()"
      ]
    },
    {
      "cell_type": "code",
      "source": [],
      "metadata": {
        "id": "y0jTIxg_4qr_"
      },
      "execution_count": 32,
      "outputs": []
    }
  ],
  "metadata": {
    "kernelspec": {
      "display_name": ".venv",
      "language": "python",
      "name": "python3"
    },
    "language_info": {
      "codemirror_mode": {
        "name": "ipython",
        "version": 3
      },
      "file_extension": ".py",
      "mimetype": "text/x-python",
      "name": "python",
      "nbconvert_exporter": "python",
      "pygments_lexer": "ipython3",
      "version": "3.12.9"
    },
    "colab": {
      "provenance": []
    }
  },
  "nbformat": 4,
  "nbformat_minor": 0
}